{
 "cells": [
  {
   "cell_type": "code",
   "execution_count": 1,
   "metadata": {},
   "outputs": [],
   "source": [
    "import numpy as np\n",
    "import Rainfall_data as RD\n",
    "import numpy as np\n",
    "import matplotlib.pyplot as plt\n",
    "import os"
   ]
  },
  {
   "cell_type": "markdown",
   "metadata": {},
   "source": [
    "# Train rainfall"
   ]
  },
  {
   "cell_type": "code",
   "execution_count": null,
   "metadata": {},
   "outputs": [],
   "source": [
    "'''\n",
    "parameters range:\n",
    "    A:21-35\n",
    "    C:0.939-1.2\n",
    "    P:1-5\n",
    "    n:0.86-0.96\n",
    "    b:16-22\n",
    "    r:0.3-0.8\n",
    "'''\n",
    "\n",
    "raindata=[]\n",
    "delta,dura = 1,120\n",
    "\n",
    "\n",
    "for _ in range(1000):\n",
    "    A = np.random.randint(21,35)\n",
    "    C = np.random.randint(93,120)/100\n",
    "    P = np.random.randint(1,5)\n",
    "    b = np.random.randint(16,22)\n",
    "    n = np.random.randint(86,96)/100\n",
    "    r = np.random.randint(3,8)/10 \n",
    "    \n",
    "    para_tuple = (A,C,n,b,r,P,delta,dura)\n",
    "    tem = RD.Chicago_icm(para_tuple)\n",
    "    raindata.append(tem)\n",
    "np.save('training_raindata.npy',np.array(raindata))"
   ]
  },
  {
   "cell_type": "markdown",
   "metadata": {},
   "source": [
    "# Test rainfall"
   ]
  },
  {
   "cell_type": "code",
   "execution_count": null,
   "metadata": {},
   "outputs": [],
   "source": [
    "'''\n",
    "Test rainfall parameters:\n",
    "    A,C,P,n,b,r\n",
    "    (21,0.939,5,0.86,16,0.3)\n",
    "    (28,0.95,,0.90,19,0.4)\n",
    "    (35,1.1,,0.96,22,0.5)\n",
    "    (21,0.939,,0.86,16,0.6)\n",
    "    (28,0.95,,0.90,19,0.7)\n",
    "    (35,1.1,,0.96,22,0.8)\n",
    "'''\n",
    "\n",
    "raindata=[]\n",
    "parameters=[(21,0.939,0.86,16,0.3,1),\n",
    "            (28,0.95,0.90,19,0.4,3),\n",
    "            (35,1.1,0.96,22,0.5,5),\n",
    "            (21,0.939,0.86,16,0.6,1),\n",
    "            (28,0.95,0.90,19,0.7,3),\n",
    "            (35,1.1,0.96,22,0.8,5)]\n",
    "\n",
    "for p in parameters:\n",
    "    A = np.random.randint(21,35)\n",
    "    C = np.random.randint(93,120)/100\n",
    "    P = np.random.randint(1,5)\n",
    "    b = np.random.randint(16,22)\n",
    "    n = np.random.randint(86,96)/100\n",
    "    r = np.random.randint(3,8)/10 \n",
    "    \n",
    "    para_tuple = (A,C,n,b,r,P,delta,dura)\n",
    "    tem = RD.Chicago_icm(para_tuple)\n",
    "    raindata.append(tem)\n",
    "    \n",
    "np.save('test_raindata.npy',np.array(raindata))\n"
   ]
  },
  {
   "cell_type": "markdown",
   "metadata": {},
   "source": [
    "# Real rainfall"
   ]
  },
  {
   "cell_type": "code",
   "execution_count": 3,
   "metadata": {},
   "outputs": [],
   "source": [
    "data = np.loadtxt('real_rain_data.txt')"
   ]
  },
  {
   "cell_type": "code",
   "execution_count": 6,
   "metadata": {},
   "outputs": [
    {
     "data": {
      "text/plain": [
       "5"
      ]
     },
     "execution_count": 6,
     "metadata": {},
     "output_type": "execute_result"
    }
   ],
   "source": [
    "delta,dura = 1, len(data)\n",
    "dura//delta+1"
   ]
  },
  {
   "cell_type": "code",
   "execution_count": 22,
   "metadata": {},
   "outputs": [],
   "source": [
    "def real_rain_op(data):    \n",
    "    Hs = []\n",
    "    delta,dura = 1, len(data)\n",
    "    for i in range(dura//delta):\n",
    "        Hs.append(20*data[i])\n",
    "    tsd = Hs\n",
    "    ts = []\n",
    "    for i in range(dura//delta):\n",
    "        t = i*delta\n",
    "        key = '08/28/2015 '+str(9+t//60).zfill(2)+':'+str(t % 60).zfill(2)+':'+'00'\n",
    "        ts.append([key,tsd[i]])\n",
    "    return ts"
   ]
  },
  {
   "cell_type": "code",
   "execution_count": 25,
   "metadata": {},
   "outputs": [],
   "source": [
    "raindata=[]\n",
    "for i in range(len(data)):\n",
    "    raindata.append(real_rain_op(data[i]))\n",
    "np.save('real_raindata.npy',np.array(raindata))"
   ]
  },
  {
   "cell_type": "markdown",
   "metadata": {},
   "source": [
    "# Expand real rainfall"
   ]
  },
  {
   "cell_type": "code",
   "execution_count": 2,
   "metadata": {},
   "outputs": [],
   "source": [
    "rr = np.load(os.path.dirname(os.getcwd())+'\\\\rainfall\\\\real_raindata.npy').tolist()"
   ]
  },
  {
   "cell_type": "code",
   "execution_count": 17,
   "metadata": {},
   "outputs": [],
   "source": [
    "rains = []\n",
    "for id in range(len(rr)):\n",
    "    tem = []\n",
    "    for i in range(len(rr[id])):\n",
    "        tem.append(float(rr[id][i][1])*20)\n",
    "    rains.append(tem)"
   ]
  },
  {
   "cell_type": "code",
   "execution_count": 22,
   "metadata": {},
   "outputs": [],
   "source": [
    "def real_rain_op(data):    \n",
    "    Hs = []\n",
    "    delta,dura = 1, len(data)\n",
    "    for i in range(dura//delta):\n",
    "        Hs.append(data[i])\n",
    "    tsd = Hs\n",
    "    ts = []\n",
    "    for i in range(dura//delta):\n",
    "        t = i*delta\n",
    "        key = '08/28/2015 '+str(9+t//60).zfill(2)+':'+str(t % 60).zfill(2)+':'+'00'\n",
    "        ts.append([key,tsd[i]])\n",
    "    return ts"
   ]
  },
  {
   "cell_type": "code",
   "execution_count": 23,
   "metadata": {},
   "outputs": [],
   "source": [
    "raindata=[]\n",
    "for i in range(len(rains)):\n",
    "    raindata.append(real_rain_op(rains[i]))\n",
    "np.save('expanded_real_raindata.npy',np.array(raindata))"
   ]
  },
  {
   "cell_type": "code",
   "execution_count": 25,
   "metadata": {},
   "outputs": [],
   "source": [
    "raindata = np.load(os.path.dirname(os.getcwd())+'\\\\rainfall\\\\expanded_real_raindata.npy').tolist()"
   ]
  }
 ],
 "metadata": {
  "kernelspec": {
   "display_name": "torch-env",
   "language": "python",
   "name": "python3"
  },
  "language_info": {
   "codemirror_mode": {
    "name": "ipython",
    "version": 3
   },
   "file_extension": ".py",
   "mimetype": "text/x-python",
   "name": "python",
   "nbconvert_exporter": "python",
   "pygments_lexer": "ipython3",
   "version": "3.9.13"
  }
 },
 "nbformat": 4,
 "nbformat_minor": 2
}
